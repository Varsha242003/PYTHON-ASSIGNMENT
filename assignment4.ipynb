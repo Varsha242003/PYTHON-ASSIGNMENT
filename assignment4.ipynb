{
 "cells": [
  {
   "cell_type": "markdown",
   "id": "c722f844",
   "metadata": {},
   "source": [
    "1. Write a Python function find_smallest_multiple(n: int) that uses a while loop to find the smallest\n",
    "positive integer x such that x is divisible by all numbers from 1 to n.\n",
    "Conditions:\n",
    "i. The function should keep incrementing x by 1 until it finds a number that satisfies the\n",
    "condition.\n",
    "ii. Your solution should handle the edge case where n = 1 efficiently, returning 1 directly since 1\n",
    "is divisible by itself."
   ]
  },
  {
   "cell_type": "code",
   "execution_count": 5,
   "id": "a73c11e3",
   "metadata": {},
   "outputs": [
    {
     "name": "stdout",
     "output_type": "stream",
     "text": [
      "6\n"
     ]
    }
   ],
   "source": [
    "def find_smallest_multiple(n: int):\n",
    "  x=n\n",
    "  while True:\n",
    "    flag = True\n",
    "    for i in range(1,n+1):\n",
    "      if x%i!=0:\n",
    "        # print(n,\"is divisible by\",i)\n",
    "        flag = False\n",
    "        break\n",
    "    if flag: return x\n",
    "    x+=1\n",
    "\n",
    "a=int(input(\"Enter a number::\"))\n",
    "print(find_smallest_multiple(a))\n",
    "\n",
    "      "
   ]
  },
  {
   "cell_type": "markdown",
   "id": "2d9e55b3",
   "metadata": {},
   "source": [
    "2. Write a function cubesum() that accepts an integer and returns the sum of the cubes of individual digits\n",
    "of that number. Use this function to make functions PrintArmstrong() and isArmstrong() to print\n",
    "Armstrong numbers and to find whether is an Armstrong number."
   ]
  },
  {
   "cell_type": "code",
   "execution_count": 3,
   "id": "42668e01",
   "metadata": {},
   "outputs": [
    {
     "name": "stdout",
     "output_type": "stream",
     "text": [
      "153 is armstrong number\n"
     ]
    }
   ],
   "source": [
    "digit=int(input(\"enter a number\"))\n",
    "r1=digit\n",
    "# li=[]\n",
    "# r=0\n",
    "n=len(str(digit))\n",
    "sum=0\n",
    "while digit:\n",
    "  r=digit%10\n",
    "  sum+=(r**n)\n",
    "  digit=digit//10\n",
    "if sum==r1:\n",
    "  print(r1,\"is armstrong number\")\n",
    "else:\n",
    "  print(r1,\"is not armstrong number\")\n"
   ]
  },
  {
   "cell_type": "markdown",
   "id": "a2054538",
   "metadata": {},
   "source": [
    "Write a program to input a decimal number and print its equivalent binary, octal, and hexadecimal\n",
    "using operators."
   ]
  },
  {
   "cell_type": "code",
   "execution_count": 18,
   "id": "57d076f7",
   "metadata": {},
   "outputs": [
    {
     "name": "stdout",
     "output_type": "stream",
     "text": [
      "1010\n",
      "01\n",
      "12\n"
     ]
    }
   ],
   "source": [
    "\n",
    "def binary_number(digit):\n",
    "  li=''\n",
    "  while digit:\n",
    "    r=digit%2\n",
    "    li+=str(r)\n",
    "    digit=digit//2\n",
    "  return li[::-1]\n",
    "def octal_number(digit):\n",
    "  li=''\n",
    "  while digit:\n",
    "    r=digit%8\n",
    "    li+=str(r)\n",
    "    digit=digit//8\n",
    "  return li[::-1]\n",
    "def hex_number(digit):\n",
    "  li=''\n",
    "  while digit:\n",
    "    r=digit%16\n",
    "    li+=str(r)\n",
    "    digit=digit//16\n",
    "  return li[::-1]\n",
    "  \n",
    "num=int(input(\"Enter the number:: \"))\n",
    "print(binary_number(num))\n",
    "print(hex_number(num))\n",
    "print(octal_number(num))\n"
   ]
  },
  {
   "cell_type": "markdown",
   "id": "ab83b3a3",
   "metadata": {},
   "source": [
    "Write a Python function to create and print a list where the values are the squares of numbers between\n",
    "1 and 30 (both included)."
   ]
  },
  {
   "cell_type": "code",
   "execution_count": 20,
   "id": "ade87111",
   "metadata": {},
   "outputs": [
    {
     "name": "stdout",
     "output_type": "stream",
     "text": [
      "[1, 8, 27, 64, 125, 216, 343, 512, 729, 1000, 1331, 1728, 2197, 2744, 3375, 4096, 4913, 5832, 6859, 8000, 9261, 10648, 12167, 13824, 15625, 17576, 19683, 21952, 24389, 27000]\n"
     ]
    }
   ],
   "source": [
    "li=[]\n",
    "for i in range(1,31):\n",
    "  li.append(i**3)\n",
    "print(li)"
   ]
  },
  {
   "cell_type": "markdown",
   "id": "91f779a9",
   "metadata": {},
   "source": [
    "Write a program that takes a sentence as input and counts the frequency of vowels, consonants, digits,\n",
    "and special characters separately"
   ]
  },
  {
   "cell_type": "code",
   "execution_count": 13,
   "id": "b3a20d48",
   "metadata": {},
   "outputs": [
    {
     "name": "stdout",
     "output_type": "stream",
     "text": [
      "number of vowels= 2\n",
      "number of digits= 3\n",
      "number of consonent= 2\n"
     ]
    }
   ],
   "source": [
    "letter=input(\"Enter a number\")\n",
    "# v=\"\"\n",
    "vowels=(\"A\",\"E\",\"I\",\"O\",\"U\",\"a\",\"e\",\"i\",\"o\",\"u\")\n",
    "numbers=(\"0\",\"1\",\"2\",\"3\",\"4\",\"5\",\"6\",\"7\",\"8\",\"9\")\n",
    "count=0\n",
    "count_cons=0\n",
    "count_digit=0\n",
    "for i in letter:\n",
    "  if i in vowels:\n",
    "    count+=1\n",
    "  elif i in numbers:\n",
    "    count_digit+=1\n",
    "  else:\n",
    "    count_cons+=1\n",
    "\n",
    "print(\"number of vowels=\",count)\n",
    "print(\"number of digits=\",count_digit)\n",
    "print(\"number of consonent=\",count_cons)\n",
    "\n",
    "\n",
    "\n"
   ]
  },
  {
   "cell_type": "markdown",
   "id": "f53aa658",
   "metadata": {},
   "source": [
    "Write a Python program to create a dictionary of students’ names as keys and their marks as values.\n",
    "Then:\n",
    "A. Print the student with the highest marks\n",
    "B. Print the student with the lowest marks"
   ]
  },
  {
   "cell_type": "code",
   "execution_count": 23,
   "id": "6b2a57cd",
   "metadata": {},
   "outputs": [
    {
     "name": "stdout",
     "output_type": "stream",
     "text": [
      "{'va': 63, 'vsfx': 56, 'ggsygd': 96}\n",
      "96 56\n"
     ]
    }
   ],
   "source": [
    "dic={}\n",
    "max_value=0\n",
    "min_value=float('inf')\n",
    "n=int(input(\"Number of student\"))\n",
    "for i in range(0,n):\n",
    "    key=input(\"Enter the name:\")\n",
    "    value=int(input(\"Enter the marks\"))\n",
    "    dic[key]=value\n",
    "print(dic)\n",
    "for key,value in dic.items():\n",
    "    if max_value<value:\n",
    "        max_value=value\n",
    "    # else:\n",
    "    if value < min_value:\n",
    "        min_value=value\n",
    "print(max_value,min_value)\n",
    "    "
   ]
  },
  {
   "cell_type": "code",
   "execution_count": null,
   "id": "4db3fabd",
   "metadata": {},
   "outputs": [],
   "source": []
  }
 ],
 "metadata": {
  "kernelspec": {
   "display_name": "Python 3",
   "language": "python",
   "name": "python3"
  },
  "language_info": {
   "codemirror_mode": {
    "name": "ipython",
    "version": 3
   },
   "file_extension": ".py",
   "mimetype": "text/x-python",
   "name": "python",
   "nbconvert_exporter": "python",
   "pygments_lexer": "ipython3",
   "version": "3.12.3"
  }
 },
 "nbformat": 4,
 "nbformat_minor": 5
}
