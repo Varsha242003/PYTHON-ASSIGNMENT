{
 "cells": [
  {
   "cell_type": "markdown",
   "id": "498a1830",
   "metadata": {},
   "source": [
    "Q1 Generate all prime numbers less than 100.Print them in a spiral format (like a clockwise\n",
    "square spiral) of minimal size that fits all primes."
   ]
  },
  {
   "cell_type": "code",
   "execution_count": 8,
   "id": "f7ab85be",
   "metadata": {},
   "outputs": [
    {
     "name": "stdout",
     "output_type": "stream",
     "text": [
      " 2  3  5  7 11 \n",
      "53 59 61 67 13 \n",
      "47 89 97 71 17 \n",
      "43 83 79 73 19 \n",
      "41 37 31 29 23 \n"
     ]
    }
   ],
   "source": [
    "\n",
    "def is_prime(num):\n",
    "    if num < 2:\n",
    "        return False\n",
    "    for i in range(2, num):\n",
    "        if num % i == 0:\n",
    "            return False\n",
    "    return True\n",
    "\n",
    "\n",
    "primes = []\n",
    "for n in range(100):\n",
    "    if is_prime(n):\n",
    "        primes.append(n)\n",
    "\n",
    "\n",
    "size = 1\n",
    "while size * size < len(primes):\n",
    "    size += 1\n",
    "\n",
    "\n",
    "spiral = [[0 for _ in range(size)] for _ in range(size)]\n",
    "\n",
    "\n",
    "top, bottom, left, right = 0, size - 1, 0, size - 1\n",
    "index = 0\n",
    "while top <= bottom and left <= right and index < len(primes):\n",
    "    for i in range(left, right + 1):   \n",
    "        if index < len(primes):\n",
    "            spiral[top][i] = primes[index]\n",
    "            index += 1\n",
    "    top += 1\n",
    "\n",
    "    for i in range(top, bottom + 1):  \n",
    "        if index < len(primes):\n",
    "            spiral[i][right] = primes[index]\n",
    "            index += 1\n",
    "    right -= 1\n",
    "\n",
    "    for i in range(right, left - 1, -1): \n",
    "        if index < len(primes):\n",
    "            spiral[bottom][i] = primes[index]\n",
    "            index += 1\n",
    "    bottom -= 1\n",
    "\n",
    "    for i in range(bottom, top - 1, -1):  \n",
    "        if index < len(primes):\n",
    "            spiral[i][left] = primes[index]\n",
    "            index += 1\n",
    "    left += 1\n",
    "\n",
    "# Print spiral\n",
    "for row in spiral:\n",
    "    for val in row:\n",
    "        if val != 0:\n",
    "            print(f\"{val:2}\", end=\" \")\n",
    "        else:\n",
    "            print(\"  \", end=\" \")\n",
    "    print()\n"
   ]
  },
  {
   "cell_type": "markdown",
   "id": "7414294f",
   "metadata": {},
   "source": [
    "Q2) You are a data analyst at a streaming platform, managing user interactions, analytics,\n",
    "and daily operations. Use a for loop to create a text-based graph of hourly views. For\n",
    "example, use * to represent every 5 views."
   ]
  },
  {
   "cell_type": "code",
   "execution_count": 9,
   "id": "2a6f3c1b",
   "metadata": {},
   "outputs": [
    {
     "name": "stdout",
     "output_type": "stream",
     "text": [
      "Hour 1 : *\n",
      "Hour 2 : **\n",
      "Hour 3 : ***\n",
      "Hour 4 : *****\n",
      "Hour 5 : **\n"
     ]
    }
   ],
   "source": [
    "# Example hourly views (you can input dynamically)\n",
    "hourly_views = [3, 8, 12, 25, 7]\n",
    "\n",
    "for hour in range(len(hourly_views)):\n",
    "    stars = \"\"\n",
    "    count = 0\n",
    "    for i in range(hourly_views[hour]):\n",
    "        count += 1\n",
    "        if count == 5:  \n",
    "            stars += \"*\"\n",
    "            count = 0\n",
    "    if count > 0:  \n",
    "        stars += \"*\"\n",
    "    print(\"Hour\", hour + 1, \":\", stars)\n"
   ]
  },
  {
   "cell_type": "markdown",
   "id": "386b5aa8",
   "metadata": {},
   "source": [
    "Q3) Each video watched generates revenue based on ad impressions:\n",
    " First 10 views: $0.50 per view\n",
    " Next 20 views: $0.30 per view\n",
    " Remaining views: $0.10 per view\n",
    "You are given hourly views for the day. Calculate total daily revenue."
   ]
  },
  {
   "cell_type": "code",
   "execution_count": 10,
   "id": "9e70b1ed",
   "metadata": {},
   "outputs": [
    {
     "name": "stdout",
     "output_type": "stream",
     "text": [
      "Total Daily Revenue = $ 23.1\n"
     ]
    }
   ],
   "source": [
    "\n",
    "hourly_views = [5, 12, 30, 8]\n",
    "\n",
    "total_revenue = 0\n",
    "\n",
    "for views in hourly_views:\n",
    "    revenue = 0\n",
    "    if views > 0:\n",
    "        first = views if views <= 10 else 10\n",
    "        revenue += first * 0.50\n",
    "        views -= first\n",
    "\n",
    "    if views > 0:\n",
    "        second = views if views <= 20 else 20\n",
    "        revenue += second * 0.30\n",
    "        views -= second\n",
    "\n",
    "    if views > 0:\n",
    "        revenue += views * 0.10\n",
    "    \n",
    "    total_revenue += revenue\n",
    "\n",
    "print(\"Total Daily Revenue = $\", total_revenue)\n"
   ]
  }
 ],
 "metadata": {
  "kernelspec": {
   "display_name": "Python 3",
   "language": "python",
   "name": "python3"
  },
  "language_info": {
   "codemirror_mode": {
    "name": "ipython",
    "version": 3
   },
   "file_extension": ".py",
   "mimetype": "text/x-python",
   "name": "python",
   "nbconvert_exporter": "python",
   "pygments_lexer": "ipython3",
   "version": "3.13.7"
  }
 },
 "nbformat": 4,
 "nbformat_minor": 5
}
