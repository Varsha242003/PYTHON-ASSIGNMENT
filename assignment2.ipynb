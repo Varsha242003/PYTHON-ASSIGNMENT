{
 "cells": [
  {
   "cell_type": "markdown",
   "id": "48c653f0",
   "metadata": {},
   "source": [
    "WRITE A PROGRAM FOR IDENTIFY WHEATHER NUMBER IS POSITIVE OR NOT\n"
   ]
  },
  {
   "cell_type": "code",
   "execution_count": null,
   "id": "7f2faec1",
   "metadata": {},
   "outputs": [
    {
     "name": "stdout",
     "output_type": "stream",
     "text": [
      "Number is negetivee\n"
     ]
    }
   ],
   "source": [
    "num1=int(input(\"Enter a number:\"))\n",
    "if(num1>=0):\n",
    "  print( num1,\"is positive \")\n",
    "else:\n",
    "  print(\"Number is negetive\")\n"
   ]
  },
  {
   "cell_type": "markdown",
   "id": "d7559d32",
   "metadata": {},
   "source": [
    "Write a program to check wheather number is even or odd"
   ]
  },
  {
   "cell_type": "code",
   "execution_count": 5,
   "id": "59ec235b",
   "metadata": {},
   "outputs": [
    {
     "name": "stdout",
     "output_type": "stream",
     "text": [
      "3  is odd\n"
     ]
    }
   ],
   "source": [
    "num1=int(input(\"Enter a number:\"))\n",
    "if num1%2==0:\n",
    "  print(num1,\"is even\")\n",
    "else:\n",
    "  print(num1,\" is odd\")"
   ]
  },
  {
   "cell_type": "markdown",
   "id": "b71e2e2d",
   "metadata": {},
   "source": [
    "Write a program to take two numbers and find  largest among two"
   ]
  },
  {
   "cell_type": "code",
   "execution_count": 6,
   "id": "d4516414",
   "metadata": {},
   "outputs": [
    {
     "name": "stdout",
     "output_type": "stream",
     "text": [
      "5 is greater\n"
     ]
    }
   ],
   "source": [
    "num1=int(input(\"Enter the Num1:\"))\n",
    "num2=int(input(\"Enter the Num2:\"))\n",
    "if num1>num2:\n",
    "  print(num1 ,\"is greater\")\n",
    "else:\n",
    "  print(num2,\"is greater\")"
   ]
  },
  {
   "cell_type": "markdown",
   "id": "74ca12ed",
   "metadata": {},
   "source": [
    "Write a program to find the absolute value of a given number without using the abs()\n",
    "function."
   ]
  },
  {
   "cell_type": "code",
   "execution_count": 7,
   "id": "8771d1fe",
   "metadata": {},
   "outputs": [
    {
     "name": "stdout",
     "output_type": "stream",
     "text": [
      "absolute value of -4 is 4\n"
     ]
    }
   ],
   "source": [
    "num1=int(input(\"Enter the value to find absolute value: \"))\n",
    "if num1>=0:\n",
    "  print(\"absolute value of\",num1, \"is\",num1)\n",
    "else:\n",
    "  absolute_number=-1*num1\n",
    "  print(\"absolute value of\",num1, \"is\",absolute_number)"
   ]
  },
  {
   "cell_type": "markdown",
   "id": "44e2c9c1",
   "metadata": {},
   "source": [
    "Eligibility for Voting::::\n",
    "Write a program to check whether a person is eligible to vote or not. (A person is\n",
    "eligible if their age is 18 or above)."
   ]
  },
  {
   "cell_type": "code",
   "execution_count": 10,
   "id": "f13f1aa6",
   "metadata": {},
   "outputs": [
    {
     "name": "stdout",
     "output_type": "stream",
     "text": [
      "Sorry you are not eligible to give votes\n"
     ]
    }
   ],
   "source": [
    "age=int(input(\"Enter your age::\"))\n",
    "if age>=18:\n",
    "  print(\"Congratolations,You are eligible\")\n",
    "else:\n",
    "  print(\"Sorry you are not eligible to give votes\")"
   ]
  },
  {
   "cell_type": "markdown",
   "id": "f6ab6762",
   "metadata": {},
   "source": [
    "Leap Year Check\n",
    "Write a program to check whether a given year is a leap year or not. (Hint: A leap year is\n",
    "divisible by 4, but not by 100 unless also divisible by 400)."
   ]
  },
  {
   "cell_type": "code",
   "execution_count": 26,
   "id": "54aad81d",
   "metadata": {},
   "outputs": [
    {
     "name": "stdout",
     "output_type": "stream",
     "text": [
      "not a Leap year!!!!!\n"
     ]
    }
   ],
   "source": [
    "leap_year=int(input(\"Enter the year:\"))\n",
    "\n",
    "if leap_year%400==0 :\n",
    "   print(\"Leap year!!!!!\")\n",
    "elif leap_year%100==0:\n",
    "         print(\"not a Leap year!!!!!\") \n",
    "elif leap_year%4==0:\n",
    "     print(\"Leap year\")    \n",
    "else:\n",
    "      print(\"This year is not considered as leap year\")   "
   ]
  },
  {
   "cell_type": "markdown",
   "id": "884b0537",
   "metadata": {},
   "source": [
    "Grade Calculation\n",
    "Write a program that takes marks as input and prints:\n",
    "- 'Pass' if marks are 40 or above\n",
    "- 'Fail' if marks are less than 40"
   ]
  },
  {
   "cell_type": "code",
   "execution_count": 29,
   "id": "386b0005",
   "metadata": {},
   "outputs": [
    {
     "name": "stdout",
     "output_type": "stream",
     "text": [
      "Congratulations,Pass!!!!!\n"
     ]
    }
   ],
   "source": [
    "marks=int(input(\"Enter the marks::\"))\n",
    "if marks>=40:\n",
    "  print(\"Congratulations,Pass!!!!!\")\n",
    "else:\n",
    "  print(\"Fail\")\n"
   ]
  },
  {
   "cell_type": "markdown",
   "id": "b398f434",
   "metadata": {},
   "source": [
    "Multiple of 5::\n",
    "Write a program to check whether a given number is a multiple of 5."
   ]
  },
  {
   "cell_type": "code",
   "execution_count": null,
   "id": "70492398",
   "metadata": {},
   "outputs": [
    {
     "name": "stdout",
     "output_type": "stream",
     "text": [
      "Sorry\n"
     ]
    }
   ],
   "source": [
    "mul=int(input(\"Enter a number::\"))\n",
    "\n",
    "if mul%5==0:\n",
    "  print(mul,\"is multiple of 5\")\n",
    "else:\n",
    "  print(\"Sorry,not a multiple of 5\")"
   ]
  },
  {
   "cell_type": "markdown",
   "id": "635b5548",
   "metadata": {},
   "source": [
    "Character Case Check\n",
    "Write a program to input a character and check whether it is an uppercase letter,\n",
    "lowercase letter, or not a letter."
   ]
  },
  {
   "cell_type": "code",
   "execution_count": 34,
   "id": "9aaddef3",
   "metadata": {},
   "outputs": [
    {
     "name": "stdout",
     "output_type": "stream",
     "text": [
      "Uppercase!!!\n"
     ]
    }
   ],
   "source": [
    "char=input(\"A CHARACTER  PLEASE::\")\n",
    "if char.isalpha():\n",
    "  if char==char.upper():\n",
    "    print(\"Uppercase!!!\")\n",
    "  else:\n",
    "    print(\"Lower case!!!\")\n",
    "else:\n",
    "  print(\"Not a letter\")\n",
    "  \n",
    "\n"
   ]
  },
  {
   "cell_type": "markdown",
   "id": "d1d6a314",
   "metadata": {},
   "source": [
    "Discount Calculator:::\n",
    "Write a program that calculates the discount:\n",
    "\n",
    "- If purchase amount is greater than or equal to 1000, apply a 10% discount.\n",
    "- Otherwise, no discount.\n",
    "Finally, print the final bill amount."
   ]
  },
  {
   "cell_type": "code",
   "execution_count": 37,
   "id": "120d45fa",
   "metadata": {},
   "outputs": [
    {
     "name": "stdout",
     "output_type": "stream",
     "text": [
      "Your final bill 900.0\n"
     ]
    }
   ],
   "source": [
    "Purchase_amount=int(input(\"Enter the bill amount::\"))\n",
    "if Purchase_amount>=1000:\n",
    "  discount=(10/100)*Purchase_amount\n",
    "  discounted_amount=Purchase_amount-discount\n",
    "  print(\"Your final bill\",discounted_amount)\n",
    "else:\n",
    "  print(\"Your final bill is:\",Purchase_amount)\n"
   ]
  },
  {
   "cell_type": "code",
   "execution_count": null,
   "id": "4b1d0d06",
   "metadata": {},
   "outputs": [],
   "source": []
  }
 ],
 "metadata": {
  "kernelspec": {
   "display_name": "base",
   "language": "python",
   "name": "python3"
  },
  "language_info": {
   "codemirror_mode": {
    "name": "ipython",
    "version": 3
   },
   "file_extension": ".py",
   "mimetype": "text/x-python",
   "name": "python",
   "nbconvert_exporter": "python",
   "pygments_lexer": "ipython3",
   "version": "3.13.5"
  }
 },
 "nbformat": 4,
 "nbformat_minor": 5
}
