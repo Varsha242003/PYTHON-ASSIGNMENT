{
 "cells": [
  {
   "cell_type": "markdown",
   "id": "eb30049e",
   "metadata": {},
   "source": [
    "Write a python program to gat a listsorted in increasing order by the last element in each tuple from a given list of non empty tuples\n",
    "\n",
    "\n",
    "input:[('2', '5'), ('1', '2'), ('4', '4'), ('2', '3'), ('2', '1')]\n",
    "output:[('2', '1'), ('1', '2'), ('2', '3'), ('4', '4'), ('2', '5')]"
   ]
  },
  {
   "cell_type": "code",
   "execution_count": 11,
   "id": "506e9753",
   "metadata": {},
   "outputs": [
    {
     "name": "stdout",
     "output_type": "stream",
     "text": [
      "[('2', '5'), ('1', '2'), ('4', '4'), ('2', '3'), ('2', '1')]\n",
      "list2 is: ['5', '2', '4', '3', '1']\n",
      "sorted list: ['1', '2', '3', '4', '5']\n",
      "[('2', '1'), ('1', '2'), ('2', '3'), ('4', '4'), ('2', '5')]\n"
     ]
    }
   ],
   "source": [
    "li=[]\n",
    "t1= tuple(input(\"Enter the value pair for first tuple: \"))\n",
    "li.append(t1)\n",
    "t2= tuple(input(\"Enter the value pair for first tuple: \"))\n",
    "li.append(t2)\n",
    "t3= tuple(input(\"Enter the value pair for first tuple: \"))\n",
    "li.append(t3)\n",
    "t4= tuple(input(\"Enter the value pair for first tuple: \"))\n",
    "li.append(t4)\n",
    "t5= tuple(input(\"Enter the value pair for first tuple: \"))\n",
    "li. append(t5)\n",
    "print(li)\n",
    "# li_sort=sorted(li)\n",
    "# print(li_sort)\n",
    "# on the basis of last element of each tuple:\n",
    "l2=[]\n",
    "for i in range(0,len(li)):\n",
    "     l2.append (li[i][1])\n",
    "print(\"list2 is:\",l2)\n",
    "l2.sort()\n",
    "print(\"sorted list:\",l2)\n",
    "\n",
    "l4=[]\n",
    "for i in range(0,len(l2)):\n",
    "     for j in range(0,len(li)):\n",
    "      if l2[i]==li[j][1]:\n",
    "            l4.append(li[j])\n",
    "print(l4)\n"
   ]
  },
  {
   "cell_type": "markdown",
   "id": "7d6c2dfc",
   "metadata": {},
   "source": [
    "Write a program to get a string from a given string where all occurances of first character should be reaplaced by $,except first character\n",
    "\n",
    "INPUT=\"RESTART\"\n",
    "OUTPUT=\"RESTA$T\""
   ]
  },
  {
   "cell_type": "code",
   "execution_count": null,
   "id": "b0bd902c",
   "metadata": {},
   "outputs": [
    {
     "name": "stdout",
     "output_type": "stream",
     "text": [
      "resat$t\n"
     ]
    }
   ],
   "source": [
    "a=input(\"Enter a string:\")\n",
    "modified_string=a[0]\n",
    "# print(modified_string)\n",
    "for i in range(0,len(a)-1):\n",
    "       if(a[0]==a[i+1]):\n",
    "            b=a.replace(a[i+1],\"$\")\n",
    "          #   print(b)\n",
    "            after_slice=b[1:]\n",
    "          #   print(after_slice)\n",
    "final_string=modified_string + after_slice\n",
    "print(final_string)\n",
    "            "
   ]
  },
  {
   "cell_type": "markdown",
   "id": "4a465539",
   "metadata": {},
   "source": [
    "Write a python program to find the first appearance  of substring \"not\" and \"poor\" from a given string.If bad follows the poor replace the whole 'not'...'poor'substring with good   "
   ]
  },
  {
   "cell_type": "code",
   "execution_count": null,
   "id": "c3ecc06d",
   "metadata": {},
   "outputs": [
    {
     "name": "stdout",
     "output_type": "stream",
     "text": [
      "The lyrics is good new  bad\n"
     ]
    }
   ],
   "source": [
    "\n",
    "x=\"not\"\n",
    "y=\"poor\"\n",
    "str1=\"The lyrics is not that poor bad\"\n",
    "ind_not=str1.find(\"not\")\n",
    "ind_poor=str1.find(\"poor\")+4\n",
    "ind_bad=str1.find(\"bad\")\n",
    "# print(ind_not)\n",
    "# print(ind_poor)\n",
    "# print(ind_bad)\n",
    "\n",
    "if x in str1 and y in str1:\n",
    "\n",
    "  if ind_poor>ind_not and ind_bad>ind_poor:\n",
    "    slice_befnot=str1[:ind_not]\n",
    "    slice_afpoor=str1[ind_poor:]\n",
    "    new_string=slice_befnot+\"good\"+slice_afpoor\n",
    "    print(new_string)\n",
    "  else:\n",
    "    print(\"not found\")\n",
    "else:\n",
    "  print(str1)\n",
    "\n",
    "\n",
    "\n",
    "\n"
   ]
  },
  {
   "cell_type": "markdown",
   "id": "21b00c4e",
   "metadata": {},
   "source": [
    "Write a python program to sort a dictionary by value"
   ]
  },
  {
   "cell_type": "code",
   "execution_count": 17,
   "id": "41bb7fcb",
   "metadata": {},
   "outputs": [
    {
     "name": "stdout",
     "output_type": "stream",
     "text": [
      "3\n",
      "['10', '4', '9']\n",
      "{'c': '10', 'b': '4', 'a': '9'}\n"
     ]
    }
   ],
   "source": [
    "dict1={'a': '9', 'b': '4', 'c': '10'}\n",
    "print(len(dict1))\n",
    "\n",
    "val=list(dict1.values())\n",
    "val=sorted(val)\n",
    "print(val)\n",
    "\n",
    "dict3={}\n",
    "for i in range(0,len(val)):\n",
    "  for j in range(0,len(dict1)):\n",
    "      if val[i]==list(dict1.values())[j]:\n",
    "        key=list(dict1.keys())[j]\n",
    "        dict3[key]=val[i]\n",
    "print(dict3)\n",
    "      "
   ]
  },
  {
   "cell_type": "markdown",
   "id": "9bc84871",
   "metadata": {},
   "source": [
    "Insert a key value pair in dictionary"
   ]
  },
  {
   "cell_type": "code",
   "execution_count": 18,
   "id": "02b2086a",
   "metadata": {},
   "outputs": [
    {
     "name": "stdout",
     "output_type": "stream",
     "text": [
      "Sucessfully inserted {'a': '9', 'b': '4', 'c': '10', '': ''}\n"
     ]
    }
   ],
   "source": [
    "dictionaryy={'a': '9', 'b': '4', 'c': '10'}\n",
    "key=input(\"Enter a key:\")\n",
    "value=input(\"Enter a value:\")\n",
    "dictionaryy[key]=value\n",
    "print(\"Sucessfully inserted\",dictionaryy)"
   ]
  }
 ],
 "metadata": {
  "kernelspec": {
   "display_name": "Python 3",
   "language": "python",
   "name": "python3"
  },
  "language_info": {
   "codemirror_mode": {
    "name": "ipython",
    "version": 3
   },
   "file_extension": ".py",
   "mimetype": "text/x-python",
   "name": "python",
   "nbconvert_exporter": "python",
   "pygments_lexer": "ipython3",
   "version": "3.13.7"
  }
 },
 "nbformat": 4,
 "nbformat_minor": 5
}
