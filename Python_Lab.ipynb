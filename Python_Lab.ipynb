{
  "nbformat": 4,
  "nbformat_minor": 0,
  "metadata": {
    "colab": {
      "provenance": []
    },
    "kernelspec": {
      "name": "python3",
      "display_name": "Python 3"
    },
    "language_info": {
      "name": "python"
    }
  },
  "cells": [
    {
      "cell_type": "markdown",
      "source": [
        "1] Write a program that encypts a message by adding a key value to every character"
      ],
      "metadata": {
        "id": "tySJZR2iPLZF"
      }
    },
    {
      "cell_type": "code",
      "execution_count": 16,
      "metadata": {
        "colab": {
          "base_uri": "https://localhost:8080/"
        },
        "id": "Dom5RBabLguA",
        "outputId": "e716e419-d3ab-4a6e-c32f-f0e90a1033bb"
      },
      "outputs": [
        {
          "output_type": "stream",
          "name": "stdout",
          "text": [
            "Enter a message to encrypt: hello\n",
            "Enter a key value (integer): 2\n",
            "Encrypted message: jgnnq\n"
          ]
        }
      ],
      "source": [
        "message = input(\"Enter a message to encrypt: \")\n",
        "key = int(input(\"Enter a key value (integer): \"))\n",
        "encrypted_text = \"\"\n",
        "\n",
        "for ch in message:\n",
        "    encrypted_text += chr(ord(ch) + key)  # shift each character by key\n",
        "\n",
        "print(\"Encrypted message:\", encrypted_text)\n"
      ]
    },
    {
      "cell_type": "markdown",
      "source": [
        "2] Write a program that finds whether a given character is present in a string or not, in case it is present u have to print the inde value"
      ],
      "metadata": {
        "id": "7qIsqnQ1QEB_"
      }
    },
    {
      "cell_type": "code",
      "source": [
        "string = \"hello world\"\n",
        "if(string.find('w')):\n",
        "  print(\"present\")\n",
        "else:\n",
        "  print(\"not present\")"
      ],
      "metadata": {
        "colab": {
          "base_uri": "https://localhost:8080/"
        },
        "id": "lHlOwT-YQDf7",
        "outputId": "fe4d5976-67e3-4053-e982-1dc0beba22c7"
      },
      "execution_count": 3,
      "outputs": [
        {
          "output_type": "stream",
          "name": "stdout",
          "text": [
            "present\n"
          ]
        }
      ]
    },
    {
      "cell_type": "code",
      "source": [
        "string = input(\"Enter the string: \")\n",
        "char = input(\"Enter the character: \")\n",
        "found = False\n",
        "for i in range(len(string)):\n",
        "  if(string[i] == char):\n",
        "    found=True\n",
        "    break\n",
        "\n",
        "if(found):\n",
        "   print(f\"{char} is present at index {i}\")\n",
        "else:\n",
        "  print(f\"{char} is not present in the string\")\n",
        "\n"
      ],
      "metadata": {
        "colab": {
          "base_uri": "https://localhost:8080/"
        },
        "id": "0H3CqmqZQxdy",
        "outputId": "62053329-2912-47c9-d849-110c9b081a9f"
      },
      "execution_count": 5,
      "outputs": [
        {
          "output_type": "stream",
          "name": "stdout",
          "text": [
            "Enter the string: hello world\n",
            "Enter the character: a\n",
            "a is not present in the string\n"
          ]
        }
      ]
    },
    {
      "cell_type": "markdown",
      "source": [
        "3] Write a program that counts the occurences of that character in a string"
      ],
      "metadata": {
        "id": "ku_-KJHXR3_A"
      }
    },
    {
      "cell_type": "code",
      "source": [
        "count=0\n",
        "string = input(\"Enter the string: \")\n",
        "char = input(\"Enter the character: \")\n",
        "for i in range(len(string)):\n",
        "  if(string[i]==char):\n",
        "    count +=1\n",
        "\n",
        "print(f\"{char} is present {count} times\")\n"
      ],
      "metadata": {
        "colab": {
          "base_uri": "https://localhost:8080/"
        },
        "id": "S1EJKE8xRy8_",
        "outputId": "d0a221be-3402-49a3-befa-489b688c195f"
      },
      "execution_count": 7,
      "outputs": [
        {
          "output_type": "stream",
          "name": "stdout",
          "text": [
            "Enter the string: hello wrold\n",
            "Enter the character: l\n",
            "l is present 3 times\n"
          ]
        }
      ]
    },
    {
      "cell_type": "markdown",
      "source": [
        "4] Write a function to give a string made of 4 copies of last two characters of specified string the length must be atleast two\n"
      ],
      "metadata": {
        "id": "vBmxjDOod4n2"
      }
    },
    {
      "cell_type": "code",
      "source": [
        "def make_four_copies(s):\n",
        "    # Check if string length is at least 2\n",
        "    if len(s) < 2:\n",
        "        return \"String length must be at least 2\"\n",
        "\n",
        "    last_two = s[-2:]        # extract last two characters\n",
        "    result = last_two * 4    # make 4 copies\n",
        "    return result\n",
        "\n",
        "# --- Test the function ---\n",
        "string = input(\"Enter a string: \")\n",
        "print(make_four_copies(string))\n"
      ],
      "metadata": {
        "colab": {
          "base_uri": "https://localhost:8080/"
        },
        "id": "hRmkTzTMSoEZ",
        "outputId": "2d27f699-1680-4475-d96a-fbaa9239bd16"
      },
      "execution_count": 8,
      "outputs": [
        {
          "output_type": "stream",
          "name": "stdout",
          "text": [
            "Enter a string: hello world\n",
            "ldldldld\n"
          ]
        }
      ]
    },
    {
      "cell_type": "markdown",
      "source": [
        "5] Write a function to reverse a string it its length is multiple of 4"
      ],
      "metadata": {
        "id": "pF_2-AGqd-iO"
      }
    },
    {
      "cell_type": "code",
      "source": [
        "def reverse_if_multiple_of_4(s):\n",
        "    # Check if string length is multiple of 4\n",
        "    if len(s) % 4 == 0:\n",
        "        return s[::-1]    # reverse the string using slicing\n",
        "    else:\n",
        "        return s          # return as it is if not multiple of 4\n",
        "\n",
        "# --- Test the function ---\n",
        "string = input(\"Enter a string: \")\n",
        "print(\"Result:\", reverse_if_multiple_of_4(string))\n"
      ],
      "metadata": {
        "colab": {
          "base_uri": "https://localhost:8080/"
        },
        "id": "Yd9_U_vld7IC",
        "outputId": "b6c2da9b-2c10-4c0a-e845-f47dcab1d6fa"
      },
      "execution_count": 9,
      "outputs": [
        {
          "output_type": "stream",
          "name": "stdout",
          "text": [
            "Enter a string: kawasaki\n",
            "Result: ikasawak\n"
          ]
        }
      ]
    },
    {
      "cell_type": "markdown",
      "source": [
        "6] Write a program if a string has at least one vowel"
      ],
      "metadata": {
        "id": "phu9EVzMeWq0"
      }
    },
    {
      "cell_type": "code",
      "source": [
        "# Program to check if a string has at least one vowel\n",
        "\n",
        "string = input(\"Enter a string: \").lower()  # convert to lowercase\n",
        "vowels = \"aeiou\"\n",
        "\n",
        "found = False  # flag variable\n",
        "\n",
        "for ch in string:\n",
        "    if ch in vowels:\n",
        "        found = True\n",
        "        break\n",
        "\n",
        "if found:\n",
        "    print(\"The string has at least one vowel.\")\n",
        "else:\n",
        "    print(\"The string does not have any vowels.\")\n"
      ],
      "metadata": {
        "colab": {
          "base_uri": "https://localhost:8080/"
        },
        "id": "m_7XpSCgeUoP",
        "outputId": "c8da920f-be93-4f3a-879b-72af79f5b5e7"
      },
      "execution_count": 10,
      "outputs": [
        {
          "output_type": "stream",
          "name": "stdout",
          "text": [
            "Enter a string: jalandhar\n",
            "The string has at least one vowel.\n"
          ]
        }
      ]
    },
    {
      "cell_type": "markdown",
      "source": [
        " 7] Write a program that uses a regular expression to match strings which starts with sequenece of digits atleast one digit followed by blank and some arbitrary characters  "
      ],
      "metadata": {
        "id": "ChCM7D2MfAxN"
      }
    },
    {
      "cell_type": "code",
      "source": [
        "import re\n",
        "pattern = r'^\\d+\\s.*'\n",
        "\n",
        "# Test strings\n",
        "test_strings = [\n",
        "    \"123 hello world\",\n",
        "    \"9 apples on tree\",\n",
        "    \"42is the answer\",\n",
        "    \"007 James Bond\",\n",
        "    \"no digits here\"\n",
        "]\n",
        "# Check each string\n",
        "for text in test_strings:\n",
        "    if re.match(pattern, text):\n",
        "        print(f\"Matched: '{text}'\")\n",
        "    else:\n",
        "        print(f\"Not matched: '{text}'\")\n"
      ],
      "metadata": {
        "colab": {
          "base_uri": "https://localhost:8080/"
        },
        "id": "GW6S31Bbe7V-",
        "outputId": "dd4d8d2f-4a2f-46f3-9db5-bd472770fa3d"
      },
      "execution_count": 11,
      "outputs": [
        {
          "output_type": "stream",
          "name": "stdout",
          "text": [
            "Matched: '123 hello world'\n",
            "Matched: '9 apples on tree'\n",
            "Not matched: '42is the answer'\n",
            "Matched: '007 James Bond'\n",
            "Not matched: 'no digits here'\n"
          ]
        }
      ]
    },
    {
      "cell_type": "markdown",
      "source": [
        " 8] Write a program to print only first two charcacters of every word"
      ],
      "metadata": {
        "id": "KfSp4A5Ugk_P"
      }
    },
    {
      "cell_type": "code",
      "source": [
        "  # Program to print the first two characters of every word\n",
        "\n",
        "sentence = input(\"Enter a sentence: \")\n",
        "\n",
        "# Split the sentence into words\n",
        "words = sentence.split()\n",
        "\n",
        "# Loop through each word and print first two characters\n",
        "for word in words:\n",
        "    if len(word) >= 2:\n",
        "        print(word[:2], end=\" \")\n",
        "    else:\n",
        "        print(word, end=\" \")   # if word has less than 2 chars, print it as it is\n"
      ],
      "metadata": {
        "colab": {
          "base_uri": "https://localhost:8080/"
        },
        "id": "ceGgFBeEgj6k",
        "outputId": "9d8bb07e-6b65-4e45-9041-306fe6bacbb7"
      },
      "execution_count": 12,
      "outputs": [
        {
          "output_type": "stream",
          "name": "stdout",
          "text": [
            "Enter a sentence: my name is preeti\n",
            "my na is pr "
          ]
        }
      ]
    }
  ]
}